{
  "cells": [
    {
      "cell_type": "markdown",
      "metadata": {
        "id": "w9rfs1vnnTBh"
      },
      "source": [
        "# Short Lab 3 : Proximal/cyclic/greedy coordinate descent\n",
        "\n",
        "#### Authors: A. Gramfort, M. Massias, P. Ablin\n",
        "\n",
        "## Aim\n",
        "\n",
        "The aim of this material is to code \n",
        "- cyclic and greedy coordinate descent for ordinary least squares (OLS)\n",
        "- proximal coordinate descent for sparse Logistic regression\n",
        "\n",
        "## VERY IMPORTANT\n",
        "\n",
        "- This work **must be done by pairs of students**.\n",
        "- **Each** student must send their work **before the 23th of november at noon**, using the **moodle platform**.\n",
        "- This means that **each student in the pair sends the same file**\n",
        "- The **name of the file must be** constructed as in the next cell\n",
        "\n",
        "# Gentle reminder: no evaluation if you don't respect this EXACTLY\n",
        "\n",
        "### How to construct the name of your file"
      ]
    },
    {
      "cell_type": "code",
      "execution_count": null,
      "metadata": {
        "id": "pDWNykZvnTBs"
      },
      "outputs": [],
      "source": [
        "import numpy as np\n",
        "from numpy.linalg import norm\n",
        "import matplotlib.pyplot as plt \n",
        "from scipy import linalg"
      ]
    },
    {
      "cell_type": "code",
      "execution_count": null,
      "metadata": {
        "id": "pm4aqkT6nTBt"
      },
      "outputs": [],
      "source": [
        "# the usual functions:\n",
        "\n",
        "from numpy.random import multivariate_normal\n",
        "from scipy.linalg.special_matrices import toeplitz\n",
        "from numpy.random import randn\n",
        "\n",
        "\n",
        "def simu(coefs, n_samples=1000, corr=0.5, for_logreg=False):\n",
        "    n_features = len(coefs)\n",
        "    cov = toeplitz(corr ** np.arange(0, n_features))\n",
        "    A = multivariate_normal(np.zeros(n_features), cov, size=n_samples)\n",
        "    b = A.dot(coefs) + randn(n_samples)\n",
        "    if for_logreg:\n",
        "        b = np.sign(b)\n",
        "    return A, b"
      ]
    },
    {
      "cell_type": "markdown",
      "metadata": {
        "id": "ic7bnHLTnTBv"
      },
      "source": [
        "## Part 1: Ordinary Least Squares\n",
        "\n",
        "\n",
        "Let $A \\in \\mathbb{R}^{n \\times p}$, $y \\in \\mathbb{R}^n$.\n",
        "We want to use coordinate descent to solve:\n",
        "    $$\\hat w \\in  \\mathrm{arg \\, min \\,} \\frac 12 \\Vert Aw - b \\Vert ^2 $$\n",
        "\n",
        "\n",
        "<div class=\"alert alert-success\">\n",
        "    <b>QUESTION 1:</b> We ask you to code\n",
        "     <ul>\n",
        "         <li>cyclic coordinate descent: at iteration $t$, update feature $j = t \\mod p$</li>\n",
        "         <li>greedy coordinate descent: at iteration $t$, update feature having the largest partial gradient in magnitude, ie $j = \\mathrm{arg\\, max \\,}_{i} \\vert \\nabla_i f(w_t) \\vert$.\n",
        "</li>\n",
        "    </ul>\n",
        "</div>\n",
        "\n",
        "**WARNING**: You must do this in a clever way, ie such that $p$ updates cost the same as one update of GD."
      ]
    },
    {
      "cell_type": "code",
      "execution_count": null,
      "metadata": {
        "id": "FxqLSO_OnTBw"
      },
      "outputs": [],
      "source": [
        "n_features = 100\n",
        "np.random.seed(1970)\n",
        "coefs = np.random.randn(n_features)\n",
        "\n",
        "A, b = simu(coefs, n_samples=1000, for_logreg=False)"
      ]
    },
    {
      "cell_type": "code",
      "execution_count": null,
      "metadata": {
        "id": "rvLszB35nTBx"
      },
      "outputs": [],
      "source": [
        "def cyclic_cd(A, b, n_iter):\n",
        "    n_samples, n_features = A.shape\n",
        "    all_objs = []\n",
        "    \n",
        "    w = np.zeros(n_features)\n",
        "    residuals = b - A.dot(w)\n",
        "    \n",
        "    # TODO\n",
        "    lips_const = np.linalg.norm(A, axis=0) ** 2\n",
        "    # END TODO\n",
        "    \n",
        "    for t in range(n_iter):\n",
        "        j = t % n_features\n",
        "        # TODO\n",
        "        old_w_j = w[j]\n",
        "        w[j] += 1./lips_const[j]*np.dot(A[:,j],residuals)\n",
        "        # update residuals:\n",
        "        residuals  += np.dot(A[:,j],old_w_j) - np.dot(A[:,j],w[j])\n",
        "        # END TODO\n",
        "        \n",
        "        if t % n_features == 0:\n",
        "            all_objs.append((residuals ** 2).sum() / 2.)\n",
        "    return w, np.array(all_objs)\n",
        "\n",
        "\n",
        "\n",
        "def greedy_cd(A, b, n_iter):\n",
        "    n_samples, n_features = A.shape\n",
        "    all_objs = []\n",
        "    \n",
        "    w = np.zeros(n_features)\n",
        "    \n",
        "    gradient = A.T.dot(A.dot(w) - b)\n",
        "    gram = A.T.dot(A)  # you will need this to keep the gradient up to date\n",
        "    \n",
        "    # TODO\n",
        "    lips_const = np.linalg.norm(A, axis=0) ** 2 \n",
        "    # END TODO \n",
        "    \n",
        "    for t in range(n_iter):\n",
        "        # TODO\n",
        "        # choose feature j to update: \n",
        "        j = np.argmax(np.abs(gradient))\n",
        "        old_w_j = w[j]\n",
        "        w[j] -= 1/lips_const[j]*gradient[j]\n",
        "        # update gradient:\n",
        "        gradient += gram[:,j] * (w[j] - old_w_j)\n",
        "        # END TODO\n",
        "        if t % n_features == 0:\n",
        "            all_objs.append(0.5 * np.linalg.norm(A.dot(w) - b) ** 2)\n",
        "    \n",
        "    return w, np.array(all_objs)"
      ]
    },
    {
      "cell_type": "markdown",
      "metadata": {
        "id": "sCWYiMtJnTB0"
      },
      "source": [
        "<div class=\"alert alert-success\">\n",
        "    <b>QUESTION 2:</b>\n",
        "     <ul>\n",
        "         <li>Compute a precise minimum with your favorite solver</li>\n",
        "         <li>Compare the performance of cyclic and greedy CD as function of iterations.</li>\n",
        "         <li>From a practical point of view, could you use greedy CD for L2 regularized logistic regression? to solve OLS, but with 100,000 features? Explain your answers.</li>\n",
        "    </ul>\n",
        "</div>\n",
        "\n",
        "**Remark:** You will do the plots using the number of iterations on the x-axis and not time as your code is likely to be slow unless you use [numba](https://numba.pydata.org/)."
      ]
    },
    {
      "cell_type": "code",
      "execution_count": null,
      "metadata": {
        "colab": {
          "base_uri": "https://localhost:8080/",
          "height": 295
        },
        "id": "MG_fL9GZnTB2",
        "outputId": "e7344996-f642-4e34-c2f8-c7dcffdddfc3"
      },
      "outputs": [
        {
          "data": {
            "image/png": "[encoded data removed]",
            "text/plain": [
              "<Figure size 432x288 with 1 Axes>"
            ]
          },
          "metadata": {},
          "output_type": "display_data"
        }
      ],
      "source": [
        "# 1- Computing a precise minimum with linalg.solve \n",
        "w_precise_min = linalg.solve(np.dot(A.T,A),np.dot(A.T,b))\n",
        "obj_star = 0.5 * np.linalg.norm(np.dot(A, w_precise_min) - b) ** 2\n",
        "# 2- Computing both minimums using cyclic CD and greedy CD\n",
        "n_iter = 10000\n",
        "w_cyclic_CD, res_cyclic_CD = cyclic_cd(A, b, n_iter)\n",
        "w_greedy_CD, res_greedy_CD = greedy_cd(A, b, n_iter)\n",
        "\n",
        "plt.figure()\n",
        "plt.semilogy((res_cyclic_CD - obj_star),label='cyclic CD')\n",
        "plt.semilogy((res_greedy_CD - obj_star),label='greedy CD')\n",
        "plt.xlabel('Iterations')\n",
        "plt.ylabel('f(w)-f(w_precise_min)')\n",
        "plt.title('Error in terms of objective function')\n",
        "plt.legend()\n",
        "plt.grid()\n",
        "plt.show()"
      ]
    },
    {
      "cell_type": "markdown",
      "metadata": {
        "id": "sHuPGpZG3Kgm"
      },
      "source": [
        "> **Comments:** <br>\n",
        "- As we can see both algorithms have linear convergence. We notice that the greedy CD has a faster convergence than the cyclic CD but it costs more computational time since it require more computations at each step. \n",
        "\n"
      ]
    },
    {
      "cell_type": "markdown",
      "metadata": {
        "id": "0QQUHAtNqNQq"
      },
      "source": [
        ">**Answer to the third point** <br>\n",
        "- Greedy coordinate descent: Is an optimization algorithm that needs to compute at each iteration the full gradient, \n",
        "and selects the coordinate that makes the most progress according to the Gauss-Southwell rule.\n",
        "- could you use greedy CD for L2 regularized logistic regression?<br>\n",
        "In general, L2 regularization tend to decrease the magnitude of the feature variables without putting anyone of them to 0.\n",
        "This doesn't help with greedy coordinate descent algorithm especially if we have a considerable number of features.\n",
        "In fact, the algorithm will have to calculate the gradients from all the featuresand to iterate, each time, over all of them to choose the best one which is time consuming.\n",
        "[However, if we use L1 regularization instead, we will have a sparse vector and thus faster computations.]\n",
        "- could you use greedy CD to solve OLS, but with 100,000 features?<br>\n",
        "The benefit of using OLS is that the gradient is easy to compute. However, GCD requires, not only, computing the full gradient (with 100,000 component) at each iteration,\n",
        "but also, comparing them, which will be so time consuming.\n"
      ]
    },
    {
      "cell_type": "markdown",
      "metadata": {
        "id": "rVOtPCJRnTB3"
      },
      "source": [
        "## Part 2: Sparse Logistic regression"
      ]
    },
    {
      "cell_type": "markdown",
      "metadata": {
        "id": "ZpOLPEYRnTB4"
      },
      "source": [
        "### An important result\n",
        "\n",
        "Remember: we are solving \n",
        "$$\\hat w \\in \\mathrm{arg \\, min} \\sum_{i=1}^{n} \\mathrm{log} ( 1 + e^{- y_i w^\\top x_i} )  + \\lambda \\Vert w \\Vert_1$$\n",
        "\n",
        "<div class=\"alert alert-success\">\n",
        "    <b>QUESTION 3:</b><br/>\n",
        "    Assuming uniqueness of the solution, show that: $\\lambda \\geq \\lambda_{max} \\Leftrightarrow \\hat w = 0$\n",
        "where $\\lambda_{max} := \\frac 12 \\Vert X^\\top y \\Vert_{\\infty}$.\n",
        "</div>\n",
        "\n",
        "**HINT:** You will need the following beautiful result: for any $w =(w_1, \\dots, w_p) \\in \\mathbb{R}^p$, the subdifferential of the L1 norm at $w$ is:\n",
        "\n",
        "$$\\partial \\Vert \\cdot \\Vert_1 (w) = \\partial \\vert \\cdot \\vert (w_1)  \\times \\dots \\times \\partial \\vert \\cdot \\vert (w_p) $$\n",
        "where $\\times$ is the Cartesian product between sets,\n",
        "and $$ \\partial \\vert \\cdot \\vert (w_j) = \n",
        "\\begin{cases} &w_j / |w_j| &\\mathrm{if} \\quad w_j \\neq 0, \n",
        "         \\\\ & [-1, 1] &\\mathrm{otherwise.} \n",
        "\\end{cases}\n",
        "$$\n",
        "\n",
        "\n",
        "(it should now be easy to find $\\partial \\Vert \\cdot \\Vert_1 (\\mathbf{0}_p)$)"
      ]
    },
    {
      "cell_type": "markdown",
      "metadata": {
        "id": "mul1sIsdnTB5"
      },
      "source": [
        "*answer here*\n",
        "> **Answer:**<br>\n",
        "- We have : <br>\n",
        "$\\hat w \\in \\mathrm{arg \\, min} \\sum_{i=1}^{n} \\mathrm{log} ( 1 + e^{- y_i w^\\top x_i} )  + \\lambda \\Vert w \\Vert_1 \\Leftrightarrow 0 \\in \\partial  (\\sum_{i=1}^{n} \\mathrm{log} ( 1 + e^{- y_i \\hat w^\\top x_i} )  + \\lambda \\Vert \\hat w \\Vert_1) $ <br> $\\Leftrightarrow \\nabla \\sum_{i=1}^{n} \\mathrm{log} ( 1 + e^{- y_i \\hat w^\\top x_i} )+ \\partial \\lambda \\Vert \\hat w \\Vert_1\\Leftrightarrow - \\nabla \\sum_{i=1}^{n} \\mathrm{log} ( 1 + e^{- y_i \\hat w^\\top x_i} ) \\in \\partial \\lambda \\Vert \\hat w \\Vert_1\\ $ <br>\n",
        "We have : <br>\n",
        "* $ \\frac{\\partial \\sum_{i=1}^{n} \\mathrm{log} ( 1 + e^{- y_i \\hat w^\\top x_i} )}{\\partial \\hat w_j}  = \\sum_{i=1}^{n} \\frac {-y_i X_{i,j}  e^{- y_i \\hat w^\\top x_i}}{e^{- y_i \\hat w^\\top x_i}} $\n",
        "* $ \\partial \\vert \\cdot \\vert (w_j) = \n",
        "\\begin{cases} &w_j / |w_j| &\\mathrm{if} \\quad w_j \\neq 0, \n",
        "         \\\\ & [-1, 1] &\\mathrm{otherwise.} \n",
        "\\end{cases}\n",
        "$<br>\n",
        "So, we get for $\\hat w = {0}_p$ : $∀j  $ $\\partial \\vert \\cdot \\vert (\\hat w_j) \\in [-1, 1]$. In this case, $ ∀j$ $ \\sum_{i=1}^{n} \\frac {y_i X_{i,j}  e^{- y_i \\hat w^\\top x_i}}{e^{- y_i \\hat w^\\top x_i}} \\in [-\\lambda,\\lambda]$ <br> $ \\Leftrightarrow$$∀j $$ \\sum_{i=1}^{n} \\frac {y_i X_{i,j}}{2} \\in [-\\lambda,\\lambda] \\Leftrightarrow ∀j |\\frac {y_i X_{i,j}}{2}| \\le \\lambda  \\Leftrightarrow  \\max\\limits_{j}|\\sum_{i=1}^{n} \\frac{{y_i  X_{i,j}}}{1+1}| \\le \\lambda \\Leftrightarrow \\frac{1}{2}||X^{T}y||_{\\infty} \\le \\lambda$ <br>\n",
        "Therefore, we conclude that : <br>\n",
        "$$\\lambda \\geq \\lambda_{max} \\Leftrightarrow \\hat w = 0$$ with: $$\\lambda_{max}  = \\frac{1}{2}||X^{T}y||_{\\infty}$$ \n"
      ]
    },
    {
      "cell_type": "markdown",
      "metadata": {
        "id": "c06-j4eDnTB6"
      },
      "source": [
        "<div class=\"alert alert-success\">\n",
        "    <b>QUESTION 4:</b><br/>\n",
        "    Show that for sparse Logistic regression the coordinate-wise Lipschitz constant of the smooth term, $\\gamma_j$, can be taken equal to $\\Vert X_j \\Vert^2 / 4$, where $X_j$ denotes the $j$-th column of $X$.\n",
        "</div>"
      ]
    },
    {
      "cell_type": "markdown",
      "metadata": {
        "id": "woiTbteknTB6"
      },
      "source": [
        "*answer here*\n",
        "> **Answer:**<br>\n",
        "Let $g_{j} (w) = \\sum_{i=1}^{n} \\mathrm{log} ( 1 + e^{- y_i  w^\\top x_i})$. We will compute $\\nabla ^2 g_j(wj)$: <br>\n",
        "We have : $\\nabla g_j(wj) = \\frac { \\partial g_{j}(w)}{\\partial w_j} = \\sum_{i=1}^{n} \\frac {-y_i X_{i,j}  e^{- y_i w^\\top x_i}}{e^{- y_i w^\\top x_i}}= \\sum_{i=1}^{n} \\frac {-y_i X_{i,j}}{e^{y_i w^\\top x_i}}$.<br>\n",
        "Therefore, $\\nabla ^2 g_j(wj) = \\sum_{i=1}^{n} \\frac {y_i ^2 X_{ij}^2 e^{y_i w^\\top x_i}} {(1+e^{y_i w^\\top x_i})^2}. $ <br>\n",
        "Using the fact that : <br>\n",
        "* $y_i \\in$ {-1,1} $\\Leftrightarrow y_i ^2= 1$\n",
        "* $\\frac {e^{y_i w^\\top x_i}}{(1+e^{y_i w^\\top x_i})^2}\\le \\frac{1}{4}$<br>\n",
        "we obtain : <br>\n",
        "$$|\\nabla ^2 g_j(wj)|\\le \\frac{1}{4} \\sum_{i=1}^{n} X_{ij}^2 = \\frac{||X_j||^{2}}{4}$$<br>\n",
        "$\\Longrightarrow$ The coordinate-wise Lipschitz constant of the smooth term $\\gamma_j$ can be taken equal to $\\Vert X_j \\Vert^2 / 4$, where $X_j$ denotes the $j$-th column of $X$\n"
      ]
    },
    {
      "cell_type": "markdown",
      "metadata": {
        "id": "Z2x3Rwg6nTB7"
      },
      "source": [
        "<div class=\"alert alert-success\">\n",
        "    <b>QUESTION 5:</b><br/>\n",
        "    Code cyclic proximal coordinate descent for sparse Logistic regression:\n",
        "</div>\n",
        "\n",
        "**WARNING**: the Lasso means linear regression (quadratic fitting term) with L1 penalty. Sparse logistic regression means logistic regression with L1 penalty."
      ]
    },
    {
      "cell_type": "code",
      "execution_count": null,
      "metadata": {
        "id": "WQHgYTYMnTB8"
      },
      "outputs": [],
      "source": [
        "X, y = simu(coefs, n_samples=1000, for_logreg=True)\n",
        "lambda_max = norm(X.T.dot(y), ord= np.inf) / 2.\n",
        "lamb = lambda_max / 20.  \n",
        "# much easier to parametrize lambda as a function of lambda_max than \n",
        "# to take random values like 0.1 in previous Labs\n",
        "\n",
        "\n",
        "def sigmoid(t):\n",
        "    \"\"\"Sigmoid function\"\"\"\n",
        "    return 1. / (1. + np.exp(-t))\n",
        "\n",
        "\n",
        "def soft_thresh(x, u):\n",
        "    \"\"\"Soft thresholding of x at level u\"\"\"\n",
        "    return np.sign(x) * np.maximum(0., np.abs(x) - u)\n",
        "\n",
        "\n",
        "def cd_logreg(X, y, lamb, n_iter):\n",
        "    n_samples, n_features = X.shape\n",
        "    w = np.zeros(n_features)\n",
        "    Xw = X.dot(w)\n",
        "    all_objs = np.zeros(n_iter)\n",
        "    \n",
        "    # TODO\n",
        "    lips_const = (1/4) * np.linalg.norm(X, axis=0) ** 2\n",
        "    # END TODO\n",
        "    \n",
        "    for t in range(n_iter):\n",
        "        for j in range(n_features):\n",
        "            old_w_j = w[j]\n",
        "            # TODO\n",
        "            grad_j = np.dot(X[:,j], y * (sigmoid(y * Xw) - 1))\n",
        "            w[j] = soft_thresh(old_w_j - (1/lips_const[j]) * grad_j, lamb/lips_const[j])\n",
        "            \n",
        "            if old_w_j != w[j]:\n",
        "              Xw += X[:,j] * w[j] - X[:,j] * old_w_j\n",
        "            #END TODO\n",
        "            \n",
        "        all_objs[t] = np.log(1. + np.exp(-y * Xw)).sum() + lamb * norm(w, ord=1)\n",
        "    \n",
        "    return w, all_objs"
      ]
    },
    {
      "cell_type": "markdown",
      "metadata": {
        "id": "i1G_NRyFnTB9"
      },
      "source": [
        "# Part 3: Real data\n",
        "\n",
        "We will compare vanilla cyclic CD and ISTA to solve the Lasso on a real dataset, called _leukemia_."
      ]
    },
    {
      "cell_type": "code",
      "execution_count": null,
      "metadata": {
        "id": "PES8RT9knTB9"
      },
      "outputs": [],
      "source": [
        "from sklearn.datasets import fetch_openml\n",
        "\n",
        "leuk = fetch_openml(\"leukemia\")\n",
        "\n",
        "X = np.asfortranarray(leuk.data)\n",
        "y = np.ones(leuk.target.shape)\n",
        "y[leuk.target == leuk.target[0]] = -1."
      ]
    },
    {
      "cell_type": "code",
      "execution_count": null,
      "metadata": {
        "colab": {
          "base_uri": "https://localhost:8080/"
        },
        "id": "z4NwmIZmJt51",
        "outputId": "41b36b40-fdc0-4c70-b8e0-5771f205edb2"
      },
      "outputs": [
        {
          "name": "stdout",
          "output_type": "stream",
          "text": [
            "(72, 7129)\n"
          ]
        }
      ],
      "source": [
        "print(X.shape)\n",
        "\n",
        "lambda_max_lasso = norm(X.T.dot(y), ord=np.inf)\n",
        "lambd = lambda_max_lasso / 5."
      ]
    },
    {
      "cell_type": "markdown",
      "metadata": {
        "id": "hHGkWhNDnTB-"
      },
      "source": [
        "<div class=\"alert alert-success\">\n",
        "    <b>QUESTION 6:</b> Code\n",
        "    <ul>\n",
        "        <li>a simple proximal gradient solver for the Lasso</li>\n",
        "        <li>a prox CD solver for the Lasso and compare them on this dataset.</li>\n",
        "    </ul>\n",
        "</div>\n",
        "\n",
        "**Remark:** Do the plots in terms of epochs, not updates (to be fair to CD)."
      ]
    },
    {
      "cell_type": "code",
      "source": [
        "def prox_GD_lasso(A,b,lamb,n_iter):\n",
        "    n_samples, n_features = A.shape\n",
        "    w = np.zeros(n_features)\n",
        "    all_objs = np.empty(n_iter)\n",
        "    lips_const = np.linalg.norm(X, ord=2) ** 2\n",
        "    \n",
        "    for t in range(n_iter):\n",
        "        grad_linreg = np.dot(np.dot(A.T,A),w)-np.dot(A.T,b)\n",
        "        w = soft_thresh(w - 1./lips_const*grad_linreg,lamb/lips_const)\n",
        "        \n",
        "        all_objs[t] = 0.5 * np.linalg.norm(A.dot(w) - b) ** 2 + lamb * norm(w, ord=1)\n",
        "    \n",
        "    return w, all_objs"
      ],
      "metadata": {
        "id": "64GtoCvHYNxn"
      },
      "execution_count": null,
      "outputs": []
    },
    {
      "cell_type": "code",
      "source": [
        "def prox_CD_lasso(A, b, lamb, n_iter):\n",
        "    n_samples, n_features = A.shape\n",
        "    w = np.zeros(n_features)\n",
        "    residuals = b - A.dot(w) \n",
        "    all_objs = np.zeros(n_iter)\n",
        "    lips_const = np.linalg.norm(A, axis=0) ** 2\n",
        "    \n",
        "    for t in range(n_iter):\n",
        "        for j in range(n_features):\n",
        "            old_w_j = w[j]\n",
        "            w[j] = soft_thresh(old_w_j - 1. / lips_const[j] * A[:,j].dot(residuals) ,\n",
        "                               lamb / lips_const[j])\n",
        "            \n",
        "            if old_w_j != w[j]:\n",
        "                residuals += ( - A[:,j].dot(old_w_j) + A[:,j].dot(w[j]) )\n",
        "           \n",
        "        all_objs[t] = (residuals ** 2).sum() / 2. + lamb * norm(w, ord=1)\n",
        "    \n",
        "    return w, all_objs"
      ],
      "metadata": {
        "id": "usyrVfV6Z1sj"
      },
      "execution_count": null,
      "outputs": []
    },
    {
      "cell_type": "code",
      "execution_count": null,
      "metadata": {
        "colab": {
          "base_uri": "https://localhost:8080/",
          "height": 295
        },
        "id": "n3EXvHsW5nVP",
        "outputId": "ca416f05-ac11-4b64-e33e-99d0a477ff72"
      },
      "outputs": [
        {
          "output_type": "display_data",
          "data": {
            "text/plain": [
              "<Figure size 432x288 with 1 Axes>"
            ],
            "image/png": "[encoded data removed]"
          },
          "metadata": {
            "needs_background": "light"
          }
        }
      ],
      "source": [
        "n_iter = 300\n",
        "w_prox_GD, objective_prox_GD = prox_GD_lasso(X,y,lambd,n_iter)\n",
        "w_prox_CD, objective_prox_CD = prox_CD_lasso(X,y,lambd,n_iter) \n",
        "\n",
        "plt.semilogy(objective_prox_GD - objective_prox_CD[-1],label='proximal gradient descent')\n",
        "plt.semilogy(objective_prox_CD - objective_prox_CD[-1],label='proximal coordinate descent')\n",
        "plt.title('Error between the obtjective functions in case of the Lasso problem')\n",
        "plt.ylabel('f(w) - f(w_min)')\n",
        "plt.xlabel('Iterations')\n",
        "plt.legend()\n",
        "plt.grid()\n",
        "plt.show()"
      ]
    },
    {
      "cell_type": "markdown",
      "metadata": {
        "id": "lm_FB1aucFoF"
      },
      "source": [
        "> **Comments:**<br>\n",
        "- The figure above represents the difference between the objective function at w and at w_min which is the minimum obtained by the proximal CD (we considered this minimum as the true ). We notice from the plot, that proxiaml CD have better convergence performance than proximal GD which mean for the Lasso probelm it is better to use proximal CD than proximal GD since it is faster and costs less computational time.\n"
      ]
    }
  ],
  "metadata": {
    "anaconda-cloud": {},
    "colab": {
      "provenance": []
    },
    "kernelspec": {
      "display_name": "Python 3",
      "language": "python",
      "name": "python3"
    },
    "language_info": {
      "codemirror_mode": {
        "name": "ipython",
        "version": 3
      },
      "file_extension": ".py",
      "mimetype": "text/x-python",
      "name": "python",
      "nbconvert_exporter": "python",
      "pygments_lexer": "ipython3",
      "version": "3.8.6"
    }
  },
  "nbformat": 4,
  "nbformat_minor": 0
}